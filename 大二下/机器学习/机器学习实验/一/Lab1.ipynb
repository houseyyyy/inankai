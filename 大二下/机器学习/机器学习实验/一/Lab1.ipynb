{
 "cells": [
  {
   "cell_type": "markdown",
   "metadata": {},
   "source": [
    "# 实验1 机器学习实验基础(Numpy)"
   ]
  },
  {
   "cell_type": "code",
   "execution_count": 2,
   "metadata": {},
   "outputs": [],
   "source": [
    "import numpy as np"
   ]
  },
  {
   "cell_type": "markdown",
   "metadata": {},
   "source": [
    "# 1. 数据读取、数据属性"
   ]
  },
  {
   "cell_type": "code",
   "execution_count": null,
   "metadata": {},
   "outputs": [],
   "source": [
    "print('Loading data ...')\n",
    "# 1. 装载数据集\n",
    "data = np.loadtxt('./house_price.txt', delimiter=',')\n",
    "\n",
    "# 2. 打印数据集的维度数，及各维度的尺寸\n",
    "print(data.shape, data.ndim)\n",
    "print(\"Size of data is :\",  , \", and dimension is\",  )\n",
    "\n",
    "# 3. 打印样本个数和样本维度\n",
    "m = \n",
    "n = \n",
    "print(m, n)"
   ]
  },
  {
   "cell_type": "markdown",
   "metadata": {},
   "source": [
    "# 2. 数据切片与检索"
   ]
  },
  {
   "cell_type": "code",
   "execution_count": null,
   "metadata": {},
   "outputs": [],
   "source": [
    "#1. 读取前两列作为输入X\n",
    "\n",
    "#2. 读取第3列作为y （一维数组）\n",
    "\n",
    "#3. 读取第3列作为y （m*1的二维矩阵）\n",
    "\n",
    "#4. 显示前10条房价数据\n",
    "\n",
    "#5. 显示房价低于20万的房屋数据（for循环、逻辑表达式）\n"
   ]
  },
  {
   "cell_type": "markdown",
   "metadata": {},
   "source": [
    "# 1. 数组创建\n",
    "创建空数组、全零、全一、随机、序列数组"
   ]
  },
  {
   "cell_type": "markdown",
   "metadata": {},
   "source": [
    "##### 1.1 空数据 numpy.empty(shape, dtype=float, order='C')\n",
    "order：是否在内存中以C或fortran(C或F，行或列)顺序存储多维数据"
   ]
  },
  {
   "cell_type": "code",
   "execution_count": null,
   "metadata": {},
   "outputs": [],
   "source": [
    "x1 = \n",
    "print(x1)"
   ]
  },
  {
   "cell_type": "markdown",
   "metadata": {},
   "source": [
    "##### 1.2 全零 numpy.zeros(shape, dtype = float, order = 'C')，zeros_like()  "
   ]
  },
  {
   "cell_type": "code",
   "execution_count": null,
   "metadata": {},
   "outputs": [],
   "source": [
    "x2 = \n",
    "print(x2)"
   ]
  },
  {
   "cell_type": "markdown",
   "metadata": {},
   "source": [
    "##### 1.3 全一 numpy.ones(shape, dtype = None, order = 'C') "
   ]
  },
  {
   "cell_type": "code",
   "execution_count": null,
   "metadata": {},
   "outputs": [],
   "source": [
    "x3 = \n",
    "print(x3)"
   ]
  },
  {
   "cell_type": "markdown",
   "metadata": {},
   "source": [
    "##### 1.4 随机 numpy.random.random()"
   ]
  },
  {
   "cell_type": "code",
   "execution_count": 15,
   "metadata": {},
   "outputs": [],
   "source": [
    "x4 = np.random.random([3,2])\n",
    "print(x4)"
   ]
  },
  {
   "cell_type": "markdown",
   "metadata": {},
   "source": [
    "##### 1.5 生成序列"
   ]
  },
  {
   "cell_type": "code",
   "execution_count": 3,
   "metadata": {},
   "outputs": [
    {
     "name": "stdout",
     "output_type": "stream",
     "text": [
      "[0 1 2 3 4 5 6 7 8]\n"
     ]
    }
   ],
   "source": [
    "x5 = np.arange(9)\n",
    "print(x5)"
   ]
  },
  {
   "cell_type": "markdown",
   "metadata": {},
   "source": [
    "# 2. 数组操作 "
   ]
  },
  {
   "cell_type": "markdown",
   "metadata": {},
   "source": [
    "##### 2.1 数组的转置\n",
    "对X分别使用numpy.transpose(arr, axes)和numpy.ndarray.T进行转置"
   ]
  },
  {
   "cell_type": "code",
   "execution_count": null,
   "metadata": {},
   "outputs": [],
   "source": [
    "X_T = \n",
    "print(X_T)"
   ]
  },
  {
   "cell_type": "markdown",
   "metadata": {},
   "source": [
    "##### 2.2 数组拼接：numpy.vstack()和numpy.hstack()\n",
    "为X数据添加X0=1的全一列"
   ]
  },
  {
   "cell_type": "code",
   "execution_count": null,
   "metadata": {},
   "outputs": [],
   "source": [
    "# 为X数据增加X0=1的全一列\n",
    "X_all = "
   ]
  },
  {
   "cell_type": "markdown",
   "metadata": {},
   "source": [
    "##### 2.3 reshape 不改变数据的情况下改变数组的形状\n",
    "使用numpy.arange(9)reshape成(3*3)的数组"
   ]
  },
  {
   "cell_type": "code",
   "execution_count": null,
   "metadata": {},
   "outputs": [
    {
     "data": {
      "text/plain": [
       "array([[0, 1, 2],\n",
       "       [3, 4, 5],\n",
       "       [6, 7, 8]])"
      ]
     },
     "execution_count": 19,
     "metadata": {},
     "output_type": "execute_result"
    }
   ],
   "source": [
    "x23 = np.arange(9)\n",
    "x23.reshape(3,3)\n",
    "print(x23)"
   ]
  },
  {
   "cell_type": "markdown",
   "metadata": {},
   "source": [
    "##### 2.4 flatten 返回一个数据展开后的拷贝，但不改变原本数组\n",
    "ndarray.flatten(order='C')\n",
    "将房价数据的标注y变成m*1的二维数组，然后再将二维数组使用flatten()函数展成一个一维数组。"
   ]
  },
  {
   "cell_type": "code",
   "execution_count": null,
   "metadata": {},
   "outputs": [],
   "source": [
    "x24 = x23.flatten()\n",
    "print(x24)\n",
    "\n",
    "# 将房价数据的标注y变成m*1的二维数组\n",
    "\n",
    "# 将m*1的二维数组y使用flatten()函数展成一个一维数组\n"
   ]
  },
  {
   "cell_type": "markdown",
   "metadata": {},
   "source": [
    "# 3. 向量/矩阵运算\n",
    "##### 3.1 向量点积和矩阵乘 numpy.dot()和@运算符\n",
    "numpy.dot(a, b) 两个数组的点积，也可用于矩阵相乘。还可以用运算符@"
   ]
  },
  {
   "cell_type": "code",
   "execution_count": null,
   "metadata": {},
   "outputs": [],
   "source": [
    "n = data.shape[1] - 1\n",
    "w = np.ones((n + 1, 1))\n",
    "X = X_all.T  #将每个样本以列向量的形式表示,X_all带全1列作为x0\n",
    "# 计算w^T * X"
   ]
  },
  {
   "cell_type": "markdown",
   "metadata": {},
   "source": [
    "##### 3.2 矩阵求逆 numpy.linalg.inv()\n",
    "提供了线性代数(linear algebra)函数库 linalg，该库包含了线性代数所需的所有功能"
   ]
  },
  {
   "cell_type": "code",
   "execution_count": null,
   "metadata": {},
   "outputs": [
    {
     "data": {
      "text/plain": [
       "array([[-2. ,  1. ],\n",
       "       [ 1.5, -0.5]])"
      ]
     },
     "execution_count": 40,
     "metadata": {},
     "output_type": "execute_result"
    }
   ],
   "source": [
    "x32 = np.array([[1,2],[3,4]])\n",
    "print(x32)\n"
   ]
  },
  {
   "cell_type": "markdown",
   "metadata": {},
   "source": [
    "##### 3.3 计算矩阵的行列式(determinant) numpy.linalg.det() "
   ]
  },
  {
   "cell_type": "code",
   "execution_count": null,
   "metadata": {
    "scrolled": true
   },
   "outputs": [],
   "source": [
    "x33 = np.array([[0,1],[2,3]])\n",
    "print(x33)"
   ]
  }
 ],
 "metadata": {
  "hide_input": false,
  "kernelspec": {
   "display_name": "Python 3 (ipykernel)",
   "language": "python",
   "name": "python3"
  },
  "language_info": {
   "codemirror_mode": {
    "name": "ipython",
    "version": 3
   },
   "file_extension": ".py",
   "mimetype": "text/x-python",
   "name": "python",
   "nbconvert_exporter": "python",
   "pygments_lexer": "ipython3",
   "version": "3.9.12"
  },
  "toc": {
   "base_numbering": 1,
   "nav_menu": {},
   "number_sections": true,
   "sideBar": true,
   "skip_h1_title": false,
   "title_cell": "Table of Contents",
   "title_sidebar": "Contents",
   "toc_cell": false,
   "toc_position": {},
   "toc_section_display": true,
   "toc_window_display": false
  },
  "varInspector": {
   "cols": {
    "lenName": 16,
    "lenType": 16,
    "lenVar": 40
   },
   "kernels_config": {
    "python": {
     "delete_cmd_postfix": "",
     "delete_cmd_prefix": "del ",
     "library": "var_list.py",
     "varRefreshCmd": "print(var_dic_list())"
    },
    "r": {
     "delete_cmd_postfix": ") ",
     "delete_cmd_prefix": "rm(",
     "library": "var_list.r",
     "varRefreshCmd": "cat(var_dic_list()) "
    }
   },
   "types_to_exclude": [
    "module",
    "function",
    "builtin_function_or_method",
    "instance",
    "_Feature"
   ],
   "window_display": false
  },
  "vscode": {
   "interpreter": {
    "hash": "c4de6b2e75fe7e3506718190e18ed9a6e38d2d0f2aa54dab9c09046b399c578d"
   }
  }
 },
 "nbformat": 4,
 "nbformat_minor": 4
}
